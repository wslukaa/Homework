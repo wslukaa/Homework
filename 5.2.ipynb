{
 "cells": [
  {
   "cell_type": "markdown",
   "metadata": {},
   "source": [
    "Question 2 (g)\n",
    "Answer: The plot quickly reaches an asymptote of about 63.2%."
   ]
  },
  {
   "cell_type": "code",
   "execution_count": 1,
   "metadata": {},
   "outputs": [
    {
     "data": {
      "image/png": "[encoded data removed]",
      "text/plain": [
       "<matplotlib.figure.Figure at 0x1063d8e48>"
      ]
     },
     "metadata": {},
     "output_type": "display_data"
    }
   ],
   "source": [
    "import matplotlib.pyplot as plt\n",
    "\n",
    "%matplotlib inline\n",
    "\n",
    "\n",
    "n = 100000   # Number of observations\n",
    "prob = [1 - (1-1/n)**n for n in range(1, n)]\n",
    "\n",
    "plt.scatter(range(1,n),prob);\n",
    "plt.xlim(0, n);\n",
    "plt.ylim(.5,1);"
   ]
  },
  {
   "cell_type": "markdown",
   "metadata": {},
   "source": [
    "By zooming in the plot above, we have the graph below: "
   ]
  },
  {
   "cell_type": "code",
   "execution_count": 2,
   "metadata": {},
   "outputs": [
    {
     "data": {
      "image/png": "[encoded data removed]",
      "text/plain": [
       "<matplotlib.figure.Figure at 0x1026a7128>"
      ]
     },
     "metadata": {},
     "output_type": "display_data"
    }
   ],
   "source": [
    "n = 500   # Number of observations\n",
    "prob = [1 - (1-1/n)**n for n in range(1, n)]\n",
    "\n",
    "plt.scatter(range(1,n),prob);\n",
    "plt.xlim(0, n);\n",
    "plt.ylim(.6,.7);"
   ]
  },
  {
   "cell_type": "markdown",
   "metadata": {},
   "source": [
    "Question 2 (h)\n",
    "Answer: \n",
    "From (e) this value is approximately to be 0.63397.\n",
    "By the value 0.6436 got below, it is close to 0.63397 as expected given by the formula. However, it is an underestimate. If we repeat the calculation several times, we would expect approximately half the estimates to be an underestimate, and the other half to be an overestimate. By redoing the calculation above a few more times, this expectation is confirmed and is shown from the histogram below."
   ]
  },
  {
   "cell_type": "code",
   "execution_count": 3,
   "metadata": {},
   "outputs": [
    {
     "name": "stdout",
     "output_type": "stream",
     "text": [
      "0.6436\n"
     ]
    }
   ],
   "source": [
    "import random\n",
    "\n",
    "n = 100\n",
    "N = 10000\n",
    "count = 0\n",
    "\n",
    "for _ in range(N):\n",
    "    # True equals 1 in Python\n",
    "    # choices(l, k=k) takes k samples from the list l with replacement\n",
    "    count += 4 in random.choices(range(1,n+1), k=n) \n",
    "    \n",
    "print(count/N)"
   ]
  },
  {
   "cell_type": "code",
   "execution_count": 4,
   "metadata": {},
   "outputs": [
    {
     "data": {
      "text/plain": [
       "(array([  5.,   5.,  12.,  17.,  25.,  17.,  13.,   4.,   0.,   2.]),\n",
       " array([ 0.6211 ,  0.62372,  0.62634,  0.62896,  0.63158,  0.6342 ,\n",
       "         0.63682,  0.63944,  0.64206,  0.64468,  0.6473 ]),\n",
       " <a list of 10 Patch objects>)"
      ]
     },
     "execution_count": 4,
     "metadata": {},
     "output_type": "execute_result"
    },
    {
     "data": {
      "image/png": "[encoded data removed]",
      "text/plain": [
       "<matplotlib.figure.Figure at 0x108c70128>"
      ]
     },
     "metadata": {},
     "output_type": "display_data"
    }
   ],
   "source": [
    "import numpy as np\n",
    "x = []\n",
    "\n",
    "for i in range(100):\n",
    "    # https://stackoverflow.com/questions/367565/how-do-i-build-a-numpy-array-from-a-generator\n",
    "    a = np.fromiter((4 in np.random.choice(100, 100, replace=True) for _ in range(N)), dtype=bool)\n",
    "    x.append(np.mean(a)) \n",
    "    \n",
    "plt.hist(x)"
   ]
  },
  {
   "cell_type": "code",
   "execution_count": null,
   "metadata": {
    "collapsed": true
   },
   "outputs": [],
   "source": []
  }
 ],
 "metadata": {
  "kernelspec": {
   "display_name": "Python 3",
   "language": "python",
   "name": "python3"
  },
  "language_info": {
   "codemirror_mode": {
    "name": "ipython",
    "version": 3
   },
   "file_extension": ".py",
   "mimetype": "text/x-python",
   "name": "python",
   "nbconvert_exporter": "python",
   "pygments_lexer": "ipython3",
   "version": "3.6.1"
  }
 },
 "nbformat": 4,
 "nbformat_minor": 2
}
